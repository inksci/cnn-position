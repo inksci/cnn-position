{
 "cells": [
  {
   "cell_type": "code",
   "execution_count": null,
   "metadata": {
    "collapsed": true
   },
   "outputs": [],
   "source": [
    "# Dec. 13, 2018 -- inksci@qq.com\n",
    "\n",
    "# conda.env: tf-gpu-v4 (inksci-laptop-nvidia)\n",
    "# Python 2"
   ]
  },
  {
   "cell_type": "code",
   "execution_count": 35,
   "metadata": {},
   "outputs": [
    {
     "data": {
      "text/plain": [
       "'1.4.1'"
      ]
     },
     "execution_count": 35,
     "metadata": {},
     "output_type": "execute_result"
    }
   ],
   "source": [
    "tf.__version__"
   ]
  },
  {
   "cell_type": "code",
   "execution_count": 1,
   "metadata": {
    "collapsed": true
   },
   "outputs": [],
   "source": [
    "import numpy as np\n",
    "import random\n",
    "import tensorflow as tf"
   ]
  },
  {
   "cell_type": "code",
   "execution_count": 2,
   "metadata": {
    "collapsed": true
   },
   "outputs": [],
   "source": [
    "import os\n",
    "import csv\n",
    "import itertools"
   ]
  },
  {
   "cell_type": "code",
   "execution_count": 3,
   "metadata": {
    "collapsed": true
   },
   "outputs": [],
   "source": [
    "import tensorflow.contrib.slim as slim"
   ]
  },
  {
   "cell_type": "code",
   "execution_count": 4,
   "metadata": {
    "collapsed": true
   },
   "outputs": [],
   "source": [
    "# Networks design, 神经网络设计"
   ]
  },
  {
   "cell_type": "code",
   "execution_count": 5,
   "metadata": {
    "collapsed": true
   },
   "outputs": [],
   "source": [
    "x =  tf.placeholder(shape=[None, 400, 400, 3],dtype=tf.float32)"
   ]
  },
  {
   "cell_type": "code",
   "execution_count": 6,
   "metadata": {},
   "outputs": [],
   "source": [
    "conv1 = slim.convolution2d( \\\n",
    "  inputs=x,num_outputs=20,\\\n",
    "  kernel_size=[8,8],stride=[1,1],padding='VALID', \\\n",
    "  biases_initializer=None,scope='conv1')"
   ]
  },
  {
   "cell_type": "code",
   "execution_count": 7,
   "metadata": {},
   "outputs": [
    {
     "name": "stdout",
     "output_type": "stream",
     "text": [
      "(?, 393, 393, 20)\n"
     ]
    }
   ],
   "source": [
    "print( conv1.shape )"
   ]
  },
  {
   "cell_type": "code",
   "execution_count": 8,
   "metadata": {
    "collapsed": true
   },
   "outputs": [],
   "source": [
    "spatial_softmax = tf.contrib.layers.spatial_softmax( conv1 )  "
   ]
  },
  {
   "cell_type": "code",
   "execution_count": 9,
   "metadata": {},
   "outputs": [
    {
     "name": "stdout",
     "output_type": "stream",
     "text": [
      "('spatial_softmax.shape: ', TensorShape([Dimension(None), Dimension(40)]))\n"
     ]
    }
   ],
   "source": [
    "print( \"spatial_softmax.shape: \", spatial_softmax.shape )"
   ]
  },
  {
   "cell_type": "code",
   "execution_count": 10,
   "metadata": {
    "collapsed": true
   },
   "outputs": [],
   "source": [
    "f1 = tf.layers.dense(spatial_softmax, 30, activation = tf.nn.relu, name = 'f1')"
   ]
  },
  {
   "cell_type": "code",
   "execution_count": 11,
   "metadata": {
    "collapsed": true
   },
   "outputs": [],
   "source": [
    "f2 = tf.layers.dense(f1, 2, name = 'f2')"
   ]
  },
  {
   "cell_type": "code",
   "execution_count": 12,
   "metadata": {
    "collapsed": true
   },
   "outputs": [],
   "source": [
    "y_input = tf.placeholder(\"float\",[None,2])"
   ]
  },
  {
   "cell_type": "code",
   "execution_count": 13,
   "metadata": {
    "collapsed": true
   },
   "outputs": [],
   "source": [
    "optimizer = tf.train.AdamOptimizer(learning_rate=0.001)"
   ]
  },
  {
   "cell_type": "code",
   "execution_count": 14,
   "metadata": {
    "collapsed": true
   },
   "outputs": [],
   "source": [
    "loss = tf.reduce_mean(tf.square(y_input - f2))"
   ]
  },
  {
   "cell_type": "code",
   "execution_count": 15,
   "metadata": {
    "collapsed": true
   },
   "outputs": [],
   "source": [
    "train = optimizer.minimize( loss )"
   ]
  },
  {
   "cell_type": "code",
   "execution_count": 16,
   "metadata": {
    "collapsed": true
   },
   "outputs": [],
   "source": [
    "# load image from file"
   ]
  },
  {
   "cell_type": "code",
   "execution_count": 17,
   "metadata": {
    "collapsed": true
   },
   "outputs": [],
   "source": [
    "import cv2\n",
    "import numpy as np"
   ]
  },
  {
   "cell_type": "code",
   "execution_count": 18,
   "metadata": {
    "collapsed": true
   },
   "outputs": [],
   "source": [
    "im = cv2.imread( \"./data-set/data-moveImg-400x400/moveImg-0.bmp\" )"
   ]
  },
  {
   "cell_type": "code",
   "execution_count": 19,
   "metadata": {},
   "outputs": [
    {
     "data": {
      "text/plain": [
       "(400, 400, 3)"
      ]
     },
     "execution_count": 19,
     "metadata": {},
     "output_type": "execute_result"
    }
   ],
   "source": [
    "im.shape"
   ]
  },
  {
   "cell_type": "code",
   "execution_count": 20,
   "metadata": {
    "collapsed": true
   },
   "outputs": [],
   "source": [
    "# 加载数据"
   ]
  },
  {
   "cell_type": "code",
   "execution_count": 21,
   "metadata": {
    "collapsed": true
   },
   "outputs": [],
   "source": [
    "def batch_obtain(dir_name):\n",
    "    # dir_name = \"data-set/data-moveImg-400x400\"\n",
    "    import re\n",
    "    data_keep = []\n",
    "\n",
    "    ink_code = open( './'+dir_name+'/ink-code.txt' )\n",
    "    for lines in ink_code:\n",
    "        # print lines\n",
    "        searchObj = re.search( r'create\\_picture\\((\\d+)\\, (\\d+)\\, \\\"moveImg\\-(\\d+)\\.bmp\\\"\\)\\;', lines, re.M|re.I)\n",
    "        if searchObj: \n",
    "            tmp=[]\n",
    "            for i in range(3):\n",
    "                tmp.append( int( searchObj.group(i+1) ) )\n",
    "            data_keep.append( tmp )\n",
    "\n",
    "    data_keep=np.array( data_keep )\n",
    "\n",
    "    x_batch = []\n",
    "    y_batch = []\n",
    "\n",
    "    for i in range( data_keep.shape[0] ): # data_keep.shape[0]\n",
    "        image = cv2.imread( './'+dir_name+'/moveImg-'+str( data_keep[i][2] )+'.bmp' )\n",
    "        x_batch.append( image )\n",
    "        y_batch.append( [data_keep[i][0], data_keep[i][1]] )\n",
    "\n",
    "    y_batch = np.array( y_batch )\n",
    "\n",
    "    return x_batch, y_batch"
   ]
  },
  {
   "cell_type": "code",
   "execution_count": 22,
   "metadata": {
    "collapsed": true
   },
   "outputs": [],
   "source": [
    "x_batch, y_batch = batch_obtain( \"data-set/data-moveImg-400x400\" )"
   ]
  },
  {
   "cell_type": "code",
   "execution_count": 23,
   "metadata": {},
   "outputs": [
    {
     "data": {
      "text/plain": [
       "(100, 2)"
      ]
     },
     "execution_count": 23,
     "metadata": {},
     "output_type": "execute_result"
    }
   ],
   "source": [
    "y_batch.shape"
   ]
  },
  {
   "cell_type": "code",
   "execution_count": 24,
   "metadata": {
    "collapsed": true
   },
   "outputs": [],
   "source": [
    "# 开始训练"
   ]
  },
  {
   "cell_type": "code",
   "execution_count": 25,
   "metadata": {
    "collapsed": true
   },
   "outputs": [],
   "source": [
    "init = tf.global_variables_initializer() "
   ]
  },
  {
   "cell_type": "code",
   "execution_count": 26,
   "metadata": {},
   "outputs": [],
   "source": [
    "sess = tf.Session()"
   ]
  },
  {
   "cell_type": "code",
   "execution_count": 27,
   "metadata": {},
   "outputs": [],
   "source": [
    "init.run( session=sess )"
   ]
  },
  {
   "cell_type": "code",
   "execution_count": 28,
   "metadata": {
    "collapsed": true
   },
   "outputs": [],
   "source": [
    "out_save = []"
   ]
  },
  {
   "cell_type": "code",
   "execution_count": 33,
   "metadata": {},
   "outputs": [],
   "source": [
    "for _ in range(10):\n",
    "    for _ in range(100):\n",
    "        sess.run([ train ], { x: [im], y_input: [ [197, 165] ]})\n",
    "    out_save.append( sess.run( [f2],{ x:[im] } ) )"
   ]
  },
  {
   "cell_type": "code",
   "execution_count": 34,
   "metadata": {},
   "outputs": [
    {
     "data": {
      "text/plain": [
       "[[array([[ 3.08174968,  4.88120508]], dtype=float32)],\n",
       " [array([[  9.81607151,  13.49610329]], dtype=float32)],\n",
       " [array([[ 23.35027885,  28.58366203]], dtype=float32)],\n",
       " [array([[ 45.71007538,  50.43025589]], dtype=float32)],\n",
       " [array([[ 71.61516571,  75.91602325]], dtype=float32)],\n",
       " [array([[  98.54956818,  101.8483429 ]], dtype=float32)],\n",
       " [array([[ 124.02584839,  125.26886749]], dtype=float32)],\n",
       " [array([[ 145.94062805,  143.79598999]], dtype=float32)],\n",
       " [array([[ 163.11135864,  156.35891724]], dtype=float32)],\n",
       " [array([[ 175.43399048,  163.41975403]], dtype=float32)],\n",
       " [array([[ 183.67446899,  166.51167297]], dtype=float32)],\n",
       " [array([[ 188.92521667,  167.32116699]], dtype=float32)],\n",
       " [array([[ 192.17753601,  167.09855652]], dtype=float32)],\n",
       " [array([[ 194.16114807,  166.56134033]], dtype=float32)],\n",
       " [array([[ 195.35813904,  166.03813171]], dtype=float32)],\n",
       " [array([[ 196.07174683,  165.63778687]], dtype=float32)],\n",
       " [array([[ 196.48968506,  165.36801147]], dtype=float32)],\n",
       " [array([[ 196.72854614,  165.20117188]], dtype=float32)],\n",
       " [array([[ 196.86091614,  165.10461426]], dtype=float32)],\n",
       " [array([[ 196.93159485,  165.05187988]], dtype=float32)],\n",
       " [array([[ 196.96774292,  165.02444458]], dtype=float32)],\n",
       " [array([[ 196.98553467,  165.01100159]], dtype=float32)],\n",
       " [array([[ 196.99380493,  165.00466919]], dtype=float32)],\n",
       " [array([[ 196.99737549,  165.00186157]], dtype=float32)],\n",
       " [array([[ 196.99891663,  165.00064087]], dtype=float32)],\n",
       " [array([[ 196.99905396,  165.00039673]], dtype=float32)],\n",
       " [array([[ 196.99911499,  165.00028992]], dtype=float32)],\n",
       " [array([[ 196.99916077,  165.00024414]], dtype=float32)],\n",
       " [array([[ 196.99920654,  165.00024414]], dtype=float32)],\n",
       " [array([[ 196.99923706,  165.00021362]], dtype=float32)]]"
      ]
     },
     "execution_count": 34,
     "metadata": {},
     "output_type": "execute_result"
    }
   ],
   "source": [
    "out_save"
   ]
  },
  {
   "cell_type": "code",
   "execution_count": null,
   "metadata": {
    "collapsed": true
   },
   "outputs": [],
   "source": []
  }
 ],
 "metadata": {
  "kernelspec": {
   "display_name": "Python 2",
   "language": "python",
   "name": "python2"
  },
  "language_info": {
   "codemirror_mode": {
    "name": "ipython",
    "version": 2
   },
   "file_extension": ".py",
   "mimetype": "text/x-python",
   "name": "python",
   "nbconvert_exporter": "python",
   "pygments_lexer": "ipython2",
   "version": "2.7.13"
  }
 },
 "nbformat": 4,
 "nbformat_minor": 2
}
